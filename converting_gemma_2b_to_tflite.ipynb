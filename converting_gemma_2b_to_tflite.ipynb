{
  "nbformat": 4,
  "nbformat_minor": 0,
  "metadata": {
    "colab": {
      "provenance": [],
      "machine_shape": "hm",
      "gpuType": "A100"
    },
    "kernelspec": {
      "name": "python3",
      "display_name": "Python 3"
    },
    "language_info": {
      "name": "python"
    },
    "accelerator": "GPU"
  },
  "cells": [
    {
      "cell_type": "code",
      "source": [
        "!pip install -q -U keras-nlp\n",
        "!pip install -q -U keras>=3"
      ],
      "metadata": {
        "colab": {
          "base_uri": "https://localhost:8080/"
        },
        "id": "FElS6eRm2Hnc",
        "outputId": "68c312f7-75c8-42f9-c19d-5072ba3e9339"
      },
      "execution_count": null,
      "outputs": [
        {
          "output_type": "stream",
          "name": "stdout",
          "text": [
            "\u001b[2K     \u001b[90m━━━━━━━━━━━━━━━━━━━━━━━━━━━━━━━━━━━━━━━━\u001b[0m \u001b[32m465.3/465.3 kB\u001b[0m \u001b[31m10.4 MB/s\u001b[0m eta \u001b[36m0:00:00\u001b[0m\n",
            "\u001b[2K     \u001b[90m━━━━━━━━━━━━━━━━━━━━━━━━━━━━━━━━━━━━━━━━\u001b[0m \u001b[32m950.8/950.8 kB\u001b[0m \u001b[31m65.6 MB/s\u001b[0m eta \u001b[36m0:00:00\u001b[0m\n",
            "\u001b[2K     \u001b[90m━━━━━━━━━━━━━━━━━━━━━━━━━━━━━━━━━━━━━━━━\u001b[0m \u001b[32m5.2/5.2 MB\u001b[0m \u001b[31m98.6 MB/s\u001b[0m eta \u001b[36m0:00:00\u001b[0m\n",
            "\u001b[?25h\u001b[31mERROR: pip's dependency resolver does not currently take into account all the packages that are installed. This behaviour is the source of the following dependency conflicts.\n",
            "tensorflow 2.15.0 requires keras<2.16,>=2.15.0, but you have keras 3.0.5 which is incompatible.\u001b[0m\u001b[31m\n",
            "\u001b[0m"
          ]
        }
      ]
    },
    {
      "cell_type": "code",
      "execution_count": null,
      "metadata": {
        "id": "_IxGVUBK199s"
      },
      "outputs": [],
      "source": [
        "import os\n",
        "from google.colab import userdata\n",
        "\n",
        "# Note: `userdata.get` is a Colab API. If you're not using Colab, set the env\n",
        "# vars as appropriate for your system.\n",
        "os.environ[\"KAGGLE_USERNAME\"] = userdata.get('KAGGLE_USERNAME')\n",
        "os.environ[\"KAGGLE_KEY\"] = userdata.get('KAGGLE_KEY')"
      ]
    },
    {
      "cell_type": "code",
      "source": [
        "import keras\n",
        "import keras_nlp\n",
        "\n",
        "import tensorflow as tf"
      ],
      "metadata": {
        "id": "DdCBOLw-2nFz"
      },
      "execution_count": null,
      "outputs": []
    },
    {
      "cell_type": "code",
      "source": [
        "gemma_lm = keras_nlp.models.GemmaCausalLM.from_preset(\"gemma_2b_en\")"
      ],
      "metadata": {
        "colab": {
          "base_uri": "https://localhost:8080/"
        },
        "id": "6WX7Yh0w20fx",
        "outputId": "d873d294-45d2-47f8-c41a-532a2553cf64"
      },
      "execution_count": null,
      "outputs": [
        {
          "output_type": "stream",
          "name": "stderr",
          "text": [
            "Attaching 'config.json' from model 'keras/gemma/keras/gemma_2b_en/2' to your Colab notebook...\n",
            "Attaching 'config.json' from model 'keras/gemma/keras/gemma_2b_en/2' to your Colab notebook...\n",
            "Attaching 'model.weights.h5' from model 'keras/gemma/keras/gemma_2b_en/2' to your Colab notebook...\n",
            "Attaching 'tokenizer.json' from model 'keras/gemma/keras/gemma_2b_en/2' to your Colab notebook...\n",
            "Attaching 'assets/tokenizer/vocabulary.spm' from model 'keras/gemma/keras/gemma_2b_en/2' to your Colab notebook...\n"
          ]
        }
      ]
    },
    {
      "cell_type": "code",
      "source": [
        "model = gemma_lm.backbone\n",
        "export_archive = keras.export.ExportArchive()\n",
        "export_archive.track(model)\n",
        "export_archive.add_endpoint(\n",
        "    name=\"serve\",\n",
        "    fn=model.call,\n",
        "    input_signature=[{\n",
        "        \"token_ids\": tf.TensorSpec(shape=(None, 3), dtype=tf.float32),\n",
        "        \"padding_mask\": tf.TensorSpec(shape=(None, 3), dtype=tf.float32),\n",
        "    }],\n",
        ")\n",
        "export_archive.write_out('gemma_2')"
      ],
      "metadata": {
        "colab": {
          "base_uri": "https://localhost:8080/"
        },
        "id": "kChxQjr10bHI",
        "outputId": "0b00f681-eac9-4f01-fbd4-d62381a20f5f"
      },
      "execution_count": null,
      "outputs": [
        {
          "output_type": "stream",
          "name": "stdout",
          "text": [
            "Saved artifact at 'gemma_2'. The following endpoints are available:\n",
            "\n",
            "* Endpoint 'serve'\n",
            "  inputs (POSITIONAL_OR_KEYWORD): Dict[['token_ids', TensorSpec(shape=(None, 3), dtype=tf.float32, name=None)], ['padding_mask', TensorSpec(shape=(None, 3), dtype=tf.float32, name=None)]]\n",
            "  training (POSITIONAL_OR_KEYWORD): Literal[None]\n",
            "  mask (POSITIONAL_OR_KEYWORD): Literal[None]\n",
            "Output Type:\n",
            "  TensorSpec(shape=(None, 3, 2048), dtype=tf.float32, name=None)\n",
            "Captures:\n",
            "  135753328975312: TensorSpec(shape=(), dtype=tf.resource, name=None)\n",
            "  135753328980416: TensorSpec(shape=(), dtype=tf.float32, name=None)\n",
            "  135753329158528: TensorSpec(shape=(), dtype=tf.resource, name=None)\n",
            "  135753329148144: TensorSpec(shape=(), dtype=tf.resource, name=None)\n",
            "  135753329155888: TensorSpec(shape=(), dtype=tf.resource, name=None)\n",
            "  135753329160464: TensorSpec(shape=(), dtype=tf.resource, name=None)\n",
            "  135753329162048: TensorSpec(shape=(), dtype=tf.resource, name=None)\n",
            "  135753329234640: TensorSpec(shape=(), dtype=tf.resource, name=None)\n",
            "  135753329235872: TensorSpec(shape=(), dtype=tf.resource, name=None)\n",
            "  135753329236752: TensorSpec(shape=(), dtype=tf.resource, name=None)\n",
            "  135753329238336: TensorSpec(shape=(), dtype=tf.resource, name=None)\n",
            "  135753329239216: TensorSpec(shape=(), dtype=tf.resource, name=None)\n",
            "  135753329240272: TensorSpec(shape=(), dtype=tf.resource, name=None)\n",
            "  135753329242912: TensorSpec(shape=(), dtype=tf.resource, name=None)\n",
            "  135753329244672: TensorSpec(shape=(), dtype=tf.resource, name=None)\n",
            "  135753329443232: TensorSpec(shape=(), dtype=tf.resource, name=None)\n",
            "  135753329448688: TensorSpec(shape=(), dtype=tf.resource, name=None)\n",
            "  135753329453264: TensorSpec(shape=(), dtype=tf.resource, name=None)\n",
            "  135753329452912: TensorSpec(shape=(), dtype=tf.resource, name=None)\n",
            "  135753329458720: TensorSpec(shape=(), dtype=tf.resource, name=None)\n",
            "  135753329495200: TensorSpec(shape=(), dtype=tf.resource, name=None)\n",
            "  135753329495728: TensorSpec(shape=(), dtype=tf.resource, name=None)\n",
            "  135753329498368: TensorSpec(shape=(), dtype=tf.resource, name=None)\n",
            "  135753329500128: TensorSpec(shape=(), dtype=tf.resource, name=None)\n",
            "  135753329502768: TensorSpec(shape=(), dtype=tf.resource, name=None)\n",
            "  135753329504000: TensorSpec(shape=(), dtype=tf.resource, name=None)\n",
            "  135753329503648: TensorSpec(shape=(), dtype=tf.resource, name=None)\n",
            "  135753329505584: TensorSpec(shape=(), dtype=tf.resource, name=None)\n",
            "  135753329507168: TensorSpec(shape=(), dtype=tf.resource, name=None)\n",
            "  135753329590688: TensorSpec(shape=(), dtype=tf.resource, name=None)\n",
            "  135753329592272: TensorSpec(shape=(), dtype=tf.resource, name=None)\n",
            "  135753329594912: TensorSpec(shape=(), dtype=tf.resource, name=None)\n",
            "  135753329810016: TensorSpec(shape=(), dtype=tf.resource, name=None)\n",
            "  135753329449744: TensorSpec(shape=(), dtype=tf.resource, name=None)\n",
            "  135753329452208: TensorSpec(shape=(), dtype=tf.resource, name=None)\n",
            "  135753329153248: TensorSpec(shape=(), dtype=tf.resource, name=None)\n",
            "  135753329156768: TensorSpec(shape=(), dtype=tf.resource, name=None)\n",
            "  135753329147968: TensorSpec(shape=(), dtype=tf.resource, name=None)\n",
            "  135753329591744: TensorSpec(shape=(), dtype=tf.resource, name=None)\n",
            "  135753329595440: TensorSpec(shape=(), dtype=tf.resource, name=None)\n",
            "  135753329596496: TensorSpec(shape=(), dtype=tf.resource, name=None)\n",
            "  135753329600720: TensorSpec(shape=(), dtype=tf.resource, name=None)\n",
            "  135753329603360: TensorSpec(shape=(), dtype=tf.resource, name=None)\n",
            "  135753329604592: TensorSpec(shape=(), dtype=tf.resource, name=None)\n",
            "  135753329602480: TensorSpec(shape=(), dtype=tf.resource, name=None)\n",
            "  135753185594000: TensorSpec(shape=(), dtype=tf.resource, name=None)\n",
            "  135753185592240: TensorSpec(shape=(), dtype=tf.resource, name=None)\n",
            "  135753185595408: TensorSpec(shape=(), dtype=tf.resource, name=None)\n",
            "  135753185596288: TensorSpec(shape=(), dtype=tf.resource, name=None)\n",
            "  135753185598400: TensorSpec(shape=(), dtype=tf.resource, name=None)\n",
            "  135753185600160: TensorSpec(shape=(), dtype=tf.resource, name=None)\n",
            "  135753185602800: TensorSpec(shape=(), dtype=tf.resource, name=None)\n",
            "  135753185604032: TensorSpec(shape=(), dtype=tf.resource, name=None)\n",
            "  135753185603680: TensorSpec(shape=(), dtype=tf.resource, name=None)\n",
            "  135753185604912: TensorSpec(shape=(), dtype=tf.resource, name=None)\n",
            "  135753185607376: TensorSpec(shape=(), dtype=tf.resource, name=None)\n",
            "  135753185659712: TensorSpec(shape=(), dtype=tf.resource, name=None)\n",
            "  135753185659536: TensorSpec(shape=(), dtype=tf.resource, name=None)\n",
            "  135753185662176: TensorSpec(shape=(), dtype=tf.resource, name=None)\n",
            "  135753185663936: TensorSpec(shape=(), dtype=tf.resource, name=None)\n",
            "  135753185666576: TensorSpec(shape=(), dtype=tf.resource, name=None)\n",
            "  135753185667808: TensorSpec(shape=(), dtype=tf.resource, name=None)\n",
            "  135753185667456: TensorSpec(shape=(), dtype=tf.resource, name=None)\n",
            "  135753185670448: TensorSpec(shape=(), dtype=tf.resource, name=None)\n",
            "  135753185669392: TensorSpec(shape=(), dtype=tf.resource, name=None)\n",
            "  135753185739168: TensorSpec(shape=(), dtype=tf.resource, name=None)\n",
            "  135753185738992: TensorSpec(shape=(), dtype=tf.resource, name=None)\n",
            "  135753185740928: TensorSpec(shape=(), dtype=tf.resource, name=None)\n",
            "  135753185744096: TensorSpec(shape=(), dtype=tf.resource, name=None)\n",
            "  135753185746736: TensorSpec(shape=(), dtype=tf.resource, name=None)\n",
            "  135753185747968: TensorSpec(shape=(), dtype=tf.resource, name=None)\n",
            "  135753185747616: TensorSpec(shape=(), dtype=tf.resource, name=None)\n",
            "  135753185750608: TensorSpec(shape=(), dtype=tf.resource, name=None)\n",
            "  135753185752192: TensorSpec(shape=(), dtype=tf.resource, name=None)\n",
            "  135753185753072: TensorSpec(shape=(), dtype=tf.resource, name=None)\n",
            "  135753185754128: TensorSpec(shape=(), dtype=tf.resource, name=None)\n",
            "  135753185837472: TensorSpec(shape=(), dtype=tf.resource, name=None)\n",
            "  135753185840640: TensorSpec(shape=(), dtype=tf.resource, name=None)\n",
            "  135753185843280: TensorSpec(shape=(), dtype=tf.resource, name=None)\n",
            "  135753185844512: TensorSpec(shape=(), dtype=tf.resource, name=None)\n",
            "  135753185844160: TensorSpec(shape=(), dtype=tf.resource, name=None)\n",
            "  135753185847152: TensorSpec(shape=(), dtype=tf.resource, name=None)\n",
            "  135753185848736: TensorSpec(shape=(), dtype=tf.resource, name=None)\n",
            "  135753185849616: TensorSpec(shape=(), dtype=tf.resource, name=None)\n",
            "  135753185850672: TensorSpec(shape=(), dtype=tf.resource, name=None)\n",
            "  135753185852080: TensorSpec(shape=(), dtype=tf.resource, name=None)\n",
            "  135753185903888: TensorSpec(shape=(), dtype=tf.resource, name=None)\n",
            "  135753185907056: TensorSpec(shape=(), dtype=tf.resource, name=None)\n",
            "  135753185908288: TensorSpec(shape=(), dtype=tf.resource, name=None)\n",
            "  135753185907936: TensorSpec(shape=(), dtype=tf.resource, name=None)\n",
            "  135753185910928: TensorSpec(shape=(), dtype=tf.resource, name=None)\n",
            "  135753185912512: TensorSpec(shape=(), dtype=tf.resource, name=None)\n",
            "  135753185913392: TensorSpec(shape=(), dtype=tf.resource, name=None)\n",
            "  135753185914448: TensorSpec(shape=(), dtype=tf.resource, name=None)\n",
            "  135753185917088: TensorSpec(shape=(), dtype=tf.resource, name=None)\n",
            "  135753185917264: TensorSpec(shape=(), dtype=tf.resource, name=None)\n",
            "  135753186018048: TensorSpec(shape=(), dtype=tf.resource, name=None)\n",
            "  135753186021216: TensorSpec(shape=(), dtype=tf.resource, name=None)\n",
            "  135753186020864: TensorSpec(shape=(), dtype=tf.resource, name=None)\n",
            "  135753186023856: TensorSpec(shape=(), dtype=tf.resource, name=None)\n",
            "  135753186025440: TensorSpec(shape=(), dtype=tf.resource, name=None)\n",
            "  135753186026320: TensorSpec(shape=(), dtype=tf.resource, name=None)\n",
            "  135753186027376: TensorSpec(shape=(), dtype=tf.resource, name=None)\n",
            "  135753186030016: TensorSpec(shape=(), dtype=tf.resource, name=None)\n",
            "  135753186031776: TensorSpec(shape=(), dtype=tf.resource, name=None)\n",
            "  135753186100672: TensorSpec(shape=(), dtype=tf.resource, name=None)\n",
            "  135753186101552: TensorSpec(shape=(), dtype=tf.resource, name=None)\n",
            "  135753186101024: TensorSpec(shape=(), dtype=tf.resource, name=None)\n",
            "  135753186104016: TensorSpec(shape=(), dtype=tf.resource, name=None)\n",
            "  135753186105600: TensorSpec(shape=(), dtype=tf.resource, name=None)\n",
            "  135753186106480: TensorSpec(shape=(), dtype=tf.resource, name=None)\n",
            "  135753186107536: TensorSpec(shape=(), dtype=tf.resource, name=None)\n",
            "  135753186110176: TensorSpec(shape=(), dtype=tf.resource, name=None)\n",
            "  135753186111936: TensorSpec(shape=(), dtype=tf.resource, name=None)\n",
            "  135753186114576: TensorSpec(shape=(), dtype=tf.resource, name=None)\n",
            "  135753186181184: TensorSpec(shape=(), dtype=tf.resource, name=None)\n",
            "  135753186182768: TensorSpec(shape=(), dtype=tf.resource, name=None)\n",
            "  135753186184176: TensorSpec(shape=(), dtype=tf.resource, name=None)\n",
            "  135753186185760: TensorSpec(shape=(), dtype=tf.resource, name=None)\n",
            "  135753186186640: TensorSpec(shape=(), dtype=tf.resource, name=None)\n",
            "  135753186187696: TensorSpec(shape=(), dtype=tf.resource, name=None)\n",
            "  135753186190336: TensorSpec(shape=(), dtype=tf.resource, name=None)\n",
            "  135753186192096: TensorSpec(shape=(), dtype=tf.resource, name=None)\n",
            "  135753186194736: TensorSpec(shape=(), dtype=tf.resource, name=None)\n",
            "  135753186195792: TensorSpec(shape=(), dtype=tf.resource, name=None)\n",
            "  135753186194560: TensorSpec(shape=(), dtype=tf.resource, name=None)\n",
            "  135753186280192: TensorSpec(shape=(), dtype=tf.resource, name=None)\n",
            "  135753186280896: TensorSpec(shape=(), dtype=tf.resource, name=None)\n",
            "  135753186283184: TensorSpec(shape=(), dtype=tf.resource, name=None)\n",
            "  135753186284240: TensorSpec(shape=(), dtype=tf.resource, name=None)\n",
            "  135753186286880: TensorSpec(shape=(), dtype=tf.resource, name=None)\n",
            "  135753186288640: TensorSpec(shape=(), dtype=tf.resource, name=None)\n",
            "  135753186291280: TensorSpec(shape=(), dtype=tf.resource, name=None)\n",
            "  135753186292512: TensorSpec(shape=(), dtype=tf.resource, name=None)\n",
            "  135753186292160: TensorSpec(shape=(), dtype=tf.resource, name=None)\n",
            "  135753186294448: TensorSpec(shape=(), dtype=tf.resource, name=None)\n",
            "  135753186345376: TensorSpec(shape=(), dtype=tf.resource, name=None)\n",
            "  135753186348192: TensorSpec(shape=(), dtype=tf.resource, name=None)\n",
            "  135753186348016: TensorSpec(shape=(), dtype=tf.resource, name=None)\n",
            "  135753186350656: TensorSpec(shape=(), dtype=tf.resource, name=None)\n",
            "  135753186352416: TensorSpec(shape=(), dtype=tf.resource, name=None)\n",
            "  135753186355056: TensorSpec(shape=(), dtype=tf.resource, name=None)\n",
            "  135753186356288: TensorSpec(shape=(), dtype=tf.resource, name=None)\n",
            "  135753186355936: TensorSpec(shape=(), dtype=tf.resource, name=None)\n",
            "  135753186358928: TensorSpec(shape=(), dtype=tf.resource, name=None)\n",
            "  135753186357872: TensorSpec(shape=(), dtype=tf.resource, name=None)\n",
            "  135753186427648: TensorSpec(shape=(), dtype=tf.resource, name=None)\n",
            "  135753186427472: TensorSpec(shape=(), dtype=tf.resource, name=None)\n",
            "  135753186429408: TensorSpec(shape=(), dtype=tf.resource, name=None)\n",
            "  135753186432576: TensorSpec(shape=(), dtype=tf.resource, name=None)\n",
            "  135753186435216: TensorSpec(shape=(), dtype=tf.resource, name=None)\n",
            "  135753186436448: TensorSpec(shape=(), dtype=tf.resource, name=None)\n",
            "  135753186436096: TensorSpec(shape=(), dtype=tf.resource, name=None)\n",
            "  135753186439088: TensorSpec(shape=(), dtype=tf.resource, name=None)\n",
            "  135753186440672: TensorSpec(shape=(), dtype=tf.resource, name=None)\n",
            "  135753186442432: TensorSpec(shape=(), dtype=tf.resource, name=None)\n",
            "  135753186509920: TensorSpec(shape=(), dtype=tf.resource, name=None)\n",
            "  135753186509040: TensorSpec(shape=(), dtype=tf.resource, name=None)\n",
            "  135753186512736: TensorSpec(shape=(), dtype=tf.resource, name=None)\n",
            "  135753186515376: TensorSpec(shape=(), dtype=tf.resource, name=None)\n",
            "  135753186516608: TensorSpec(shape=(), dtype=tf.resource, name=None)\n",
            "  135753186516256: TensorSpec(shape=(), dtype=tf.resource, name=None)\n",
            "  135753186519248: TensorSpec(shape=(), dtype=tf.resource, name=None)\n",
            "  135753186520832: TensorSpec(shape=(), dtype=tf.resource, name=None)\n",
            "  135753186523120: TensorSpec(shape=(), dtype=tf.resource, name=None)\n"
          ]
        }
      ]
    },
    {
      "cell_type": "code",
      "source": [
        "tflite_model = tf.lite.TFLiteConverter.from_saved_model('gemma_2/').convert()\n",
        "\n",
        "with open('gemma_2.tflite', 'wb') as f:\n",
        "  f.write(tflite_model)"
      ],
      "metadata": {
        "id": "WzEf699A3l_H"
      },
      "execution_count": null,
      "outputs": []
    },
    {
      "cell_type": "markdown",
      "source": [
        "##Generate Gemma2 quantgized model"
      ],
      "metadata": {
        "id": "eJ88gRk_kSUP"
      }
    },
    {
      "cell_type": "code",
      "source": [
        "# Convert the model\n",
        "converter = tf.lite.TFLiteConverter.from_saved_model('gemma_2/')\n",
        "converter.target_spec.supported_ops = [\n",
        "  tf.lite.OpsSet.TFLITE_BUILTINS, # enable TensorFlow Lite ops.\n",
        "  tf.lite.OpsSet.SELECT_TF_OPS # enable TensorFlow ops.\n",
        "]\n",
        "converter.optimizations = [tf.lite.Optimize.DEFAULT]\n",
        "tflite_model = converter.convert()\n",
        "\n",
        "# Save the model\n",
        "with open('gemma2-quantized.tflite', 'wb') as f:\n",
        "    f.write(tflite_model)"
      ],
      "metadata": {
        "id": "QUu4plt9jcvv"
      },
      "execution_count": null,
      "outputs": []
    },
    {
      "cell_type": "code",
      "source": [
        "converter = tf.lite.TFLiteConverter.from_saved_model('gemma_2/')\n",
        "converter.optimizations = [tf.lite.Optimize.DEFAULT]\n",
        "converter.target_spec.supported_types = [tf.float16]\n",
        "tflite_model = converter.convert()\n",
        "\n",
        "with open('gemma_2_fp16.tflite', 'wb') as f:\n",
        "  f.write(tflite_model)"
      ],
      "metadata": {
        "id": "F8W5rcTp_enj"
      },
      "execution_count": null,
      "outputs": []
    }
  ]
}